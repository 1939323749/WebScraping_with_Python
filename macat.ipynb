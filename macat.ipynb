{
 "cells": [
  {
   "cell_type": "code",
   "execution_count": 31,
   "metadata": {},
   "outputs": [],
   "source": [
    "from urllib.request import urlopen\n",
    "from bs4 import BeautifulSoup\n",
    "from telegraph import Telegraph\n",
    "from datetime import datetime"
   ]
  },
  {
   "cell_type": "code",
   "execution_count": 39,
   "metadata": {},
   "outputs": [
    {
     "name": "stdout",
     "output_type": "stream",
     "text": [
      "https://telegra.ph/Macat-08-07-6\n"
     ]
    }
   ],
   "source": [
    "telegraph = Telegraph()\n",
    "telegraph.create_account(short_name='1337')\n",
    "html=str(urlopen(\"https://www.macat.vip/mac%e8%bd%af%e4%bb%b6/\").read(),'utf-8')\n",
    "soup=BeautifulSoup(html,'html.parser')\n",
    "html_content=''\n",
    "time_string=''\n",
    "for link in soup.find_all(attrs={'class':'entry-title'}):\n",
    "    url=link.find('a').get('href')\n",
    "    html=str(urlopen(url).read(),encoding='utf-8')\n",
    "    soup=BeautifulSoup(html,'html.parser')\n",
    "    time_string = soup.find_all(attrs={'class':'data-label'})[1].get_text()\n",
    "    date_string = time_string.replace('最近更新：', '')\n",
    "    date_format = '%Y年%m月%d日'\n",
    "    date = datetime.strptime(date_string, date_format)\n",
    "    if datetime.now().date()==date.date():\n",
    "        html_content+='<a href=\"{}\">{}</a>'.format(link.find('a').get('href'), link.find('a').get_text())\n",
    "        html_content+='<br>'\n",
    "        html_content+='<img src=\"{}\">'.format(soup.find_all('img')[1].get('data-src'))\n",
    "    else:\n",
    "        break\n",
    "\n",
    "response = telegraph.create_page(\n",
    "    'Macat',\n",
    "    html_content=html_content,\n",
    "    author_name=time_string,\n",
    ")\n",
    "print('https://telegra.ph/{}'.format(response['path']))"
   ]
  }
 ],
 "metadata": {
  "kernelspec": {
   "display_name": "Python 3",
   "language": "python",
   "name": "python3"
  },
  "language_info": {
   "codemirror_mode": {
    "name": "ipython",
    "version": 3
   },
   "file_extension": ".py",
   "mimetype": "text/x-python",
   "name": "python",
   "nbconvert_exporter": "python",
   "pygments_lexer": "ipython3",
   "version": "3.10.10"
  },
  "orig_nbformat": 4
 },
 "nbformat": 4,
 "nbformat_minor": 2
}
