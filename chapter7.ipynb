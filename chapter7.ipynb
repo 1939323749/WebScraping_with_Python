{
 "cells": [
  {
   "cell_type": "code",
   "execution_count": null,
   "metadata": {},
   "outputs": [],
   "source": [
    "from urllib.request import urlopen\n",
    "from bs4 import BeautifulSoup"
   ]
  },
  {
   "cell_type": "code",
   "execution_count": null,
   "metadata": {},
   "outputs": [],
   "source": [
    "import re\n",
    "import string"
   ]
  },
  {
   "cell_type": "code",
   "execution_count": null,
   "metadata": {},
   "outputs": [],
   "source": [
    "def cleanData(input):\n",
    "    input = re.sub('\\n+', ' ', input)\n",
    "    input = re.sub(' +', ' ', input)\n",
    "    input = re.sub('\\[[0-9]*\\]', '', input)\n",
    "    input = bytes(input, 'UTF-8')\n",
    "    input = input.decode('ascii', 'ignore')\n",
    "    cleanInput = []\n",
    "    input = input.split(' ')\n",
    "    for item in input:\n",
    "        item = item.strip(string.punctuation)\n",
    "        if len(item) > 1 or (item.lower() == 'a' or item.lower() == 'i'):\n",
    "            cleanInput.append(item)\n",
    "    return cleanInput\n",
    "\n",
    "\n"
   ]
  },
  {
   "cell_type": "code",
   "execution_count": null,
   "metadata": {},
   "outputs": [],
   "source": [
    "def ngrams(input, n):\n",
    "    output = []\n",
    "    for i in range(len(input)-n+1):\n",
    "        output.append(input[i:i+n])\n",
    "    return output\n",
    "html = urlopen('http://en.wikipedia.org/wiki/Python_(programming_language)')\n",
    "bsObj = BeautifulSoup(html, 'html.parser')\n",
    "content = bsObj.find('div', {'id':'mw-content-text'}).get_text()\n",
    "content = cleanData(content)\n",
    "ngrams = ngrams(content, 2)\n",
    "print(ngrams)\n",
    "print('2-grams count is: ' + str(len(ngrams)))"
   ]
  },
  {
   "cell_type": "code",
   "execution_count": null,
   "metadata": {},
   "outputs": [],
   "source": [
    "from collections import OrderedDict"
   ]
  },
  {
   "cell_type": "code",
   "execution_count": null,
   "metadata": {},
   "outputs": [],
   "source": [
    "ngrams = OrderedDict(sorted(ngrams, key=lambda t: t[1], reverse=True))\n",
    "print(ngrams)"
   ]
  }
 ],
 "metadata": {
  "kernelspec": {
   "display_name": "Python 3",
   "language": "python",
   "name": "python3"
  },
  "language_info": {
   "codemirror_mode": {
    "name": "ipython",
    "version": 3
   },
   "file_extension": ".py",
   "mimetype": "text/x-python",
   "name": "python",
   "nbconvert_exporter": "python",
   "pygments_lexer": "ipython3",
   "version": "3.10.9"
  },
  "orig_nbformat": 4
 },
 "nbformat": 4,
 "nbformat_minor": 2
}
