{
 "cells": [
  {
   "cell_type": "code",
   "execution_count": null,
   "metadata": {},
   "outputs": [],
   "source": [
    "from urllib.request import urlopen\n",
    "from bs4 import BeautifulSoup"
   ]
  },
  {
   "cell_type": "code",
   "execution_count": null,
   "metadata": {},
   "outputs": [],
   "source": [
    "html = urlopen(\"http://en.wikipedia.org/wiki/Kevin_Bacon\")\n",
    "bsObj = BeautifulSoup(html, \"html.parser\")\n",
    "for link in bsObj.findAll(\"a\"):\n",
    "    if 'href' in link.attrs:\n",
    "        print(link.attrs['href'])"
   ]
  },
  {
   "cell_type": "code",
   "execution_count": null,
   "metadata": {},
   "outputs": [],
   "source": [
    "import re"
   ]
  },
  {
   "cell_type": "code",
   "execution_count": null,
   "metadata": {},
   "outputs": [],
   "source": [
    "for link in bsObj.find(\"div\", {\"id\":\"bodyContent\"}).findAll(\"a\",\n",
    "                        href=re.compile(\"^(/wiki/)((?!:).)*$\")):\n",
    "    if 'href' in link.attrs:\n",
    "        print(link.attrs['href'])"
   ]
  },
  {
   "cell_type": "code",
   "execution_count": null,
   "metadata": {},
   "outputs": [],
   "source": [
    "import datetime\n",
    "import random\n",
    "random.seed(datetime.datetime.now())\n",
    "def getLinks(articleUrl):\n",
    "    html = urlopen(\"http://en.wikipedia.org\"+articleUrl)\n",
    "    bsObj = BeautifulSoup(html, \"html.parser\")\n",
    "    return bsObj.find(\"div\", {\"id\":\"bodyContent\"}).findAll(\"a\",\n",
    "                        href=re.compile(\"^(/wiki/)((?!:).)*$\"))\n",
    "links = getLinks(\"/wiki/Kevin_Bacon\")\n",
    "while len(links) > 0:\n",
    "    newArticle = links[random.randint(0, len(links)-1)].attrs[\"href\"]\n",
    "    print(newArticle)\n",
    "    links = getLinks(newArticle)\n",
    "    "
   ]
  },
  {
   "cell_type": "code",
   "execution_count": 9,
   "metadata": {},
   "outputs": [
    {
     "name": "stdout",
     "output_type": "stream",
     "text": [
      "----------------\n",
      "/wiki/Main_Page\n",
      "----------------\n",
      "/wiki/Wikipedia:Contents\n",
      "----------------\n",
      "/wiki/Portal:Current_events\n",
      "----------------\n",
      "/wiki/Special:Random\n",
      "----------------\n",
      "/wiki/Wikipedia:About\n",
      "----------------\n",
      "/wiki/Help:Contents\n",
      "----------------\n",
      "/wiki/Help:Introduction\n",
      "----------------\n",
      "/wiki/Wikipedia:Community_portal\n",
      "----------------\n",
      "/wiki/Special:RecentChanges\n",
      "----------------\n",
      "/wiki/Wikipedia:File_upload_wizard\n",
      "----------------\n",
      "/wiki/Special:Search\n",
      "----------------\n",
      "/wiki/Special:MyContributions\n",
      "----------------\n",
      "/wiki/Special:MyTalk\n",
      "----------------\n",
      "/wiki/Special:WhatLinksHere/User_talk:103.116.72.25\n"
     ]
    },
    {
     "ename": "HTTPError",
     "evalue": "HTTP Error 404: Not Found",
     "output_type": "error",
     "traceback": [
      "\u001b[0;31m---------------------------------------------------------------------------\u001b[0m",
      "\u001b[0;31mHTTPError\u001b[0m                                 Traceback (most recent call last)",
      "Cell \u001b[0;32mIn[9], line 15\u001b[0m\n\u001b[1;32m     12\u001b[0m                 pages\u001b[39m.\u001b[39madd(newPage)\n\u001b[1;32m     13\u001b[0m                 getLinks(newPage)\n\u001b[0;32m---> 15\u001b[0m getLinks(\u001b[39m\"\u001b[39;49m\u001b[39m\"\u001b[39;49m)\n",
      "Cell \u001b[0;32mIn[9], line 13\u001b[0m, in \u001b[0;36mgetLinks\u001b[0;34m(pageUrl)\u001b[0m\n\u001b[1;32m     11\u001b[0m \u001b[39mprint\u001b[39m(\u001b[39m\"\u001b[39m\u001b[39m----------------\u001b[39m\u001b[39m\\n\u001b[39;00m\u001b[39m\"\u001b[39m\u001b[39m+\u001b[39mnewPage)\n\u001b[1;32m     12\u001b[0m pages\u001b[39m.\u001b[39madd(newPage)\n\u001b[0;32m---> 13\u001b[0m getLinks(newPage)\n",
      "Cell \u001b[0;32mIn[9], line 13\u001b[0m, in \u001b[0;36mgetLinks\u001b[0;34m(pageUrl)\u001b[0m\n\u001b[1;32m     11\u001b[0m \u001b[39mprint\u001b[39m(\u001b[39m\"\u001b[39m\u001b[39m----------------\u001b[39m\u001b[39m\\n\u001b[39;00m\u001b[39m\"\u001b[39m\u001b[39m+\u001b[39mnewPage)\n\u001b[1;32m     12\u001b[0m pages\u001b[39m.\u001b[39madd(newPage)\n\u001b[0;32m---> 13\u001b[0m getLinks(newPage)\n",
      "    \u001b[0;31m[... skipping similar frames: getLinks at line 13 (11 times)]\u001b[0m\n",
      "Cell \u001b[0;32mIn[9], line 13\u001b[0m, in \u001b[0;36mgetLinks\u001b[0;34m(pageUrl)\u001b[0m\n\u001b[1;32m     11\u001b[0m \u001b[39mprint\u001b[39m(\u001b[39m\"\u001b[39m\u001b[39m----------------\u001b[39m\u001b[39m\\n\u001b[39;00m\u001b[39m\"\u001b[39m\u001b[39m+\u001b[39mnewPage)\n\u001b[1;32m     12\u001b[0m pages\u001b[39m.\u001b[39madd(newPage)\n\u001b[0;32m---> 13\u001b[0m getLinks(newPage)\n",
      "Cell \u001b[0;32mIn[9], line 4\u001b[0m, in \u001b[0;36mgetLinks\u001b[0;34m(pageUrl)\u001b[0m\n\u001b[1;32m      2\u001b[0m \u001b[39mdef\u001b[39;00m \u001b[39mgetLinks\u001b[39m(pageUrl):\n\u001b[1;32m      3\u001b[0m     \u001b[39mglobal\u001b[39;00m pages\n\u001b[0;32m----> 4\u001b[0m     html \u001b[39m=\u001b[39m urlopen(\u001b[39m\"\u001b[39;49m\u001b[39mhttp://en.wikipedia.org\u001b[39;49m\u001b[39m\"\u001b[39;49m\u001b[39m+\u001b[39;49mpageUrl)\n\u001b[1;32m      5\u001b[0m     bsObj \u001b[39m=\u001b[39m BeautifulSoup(html, \u001b[39m\"\u001b[39m\u001b[39mhtml.parser\u001b[39m\u001b[39m\"\u001b[39m)\n\u001b[1;32m      6\u001b[0m     \u001b[39mfor\u001b[39;00m link \u001b[39min\u001b[39;00m bsObj\u001b[39m.\u001b[39mfindAll(\u001b[39m\"\u001b[39m\u001b[39ma\u001b[39m\u001b[39m\"\u001b[39m, href\u001b[39m=\u001b[39mre\u001b[39m.\u001b[39mcompile(\u001b[39m\"\u001b[39m\u001b[39m^(/wiki/)\u001b[39m\u001b[39m\"\u001b[39m)):\n",
      "File \u001b[0;32m/opt/homebrew/anaconda3/lib/python3.10/urllib/request.py:216\u001b[0m, in \u001b[0;36murlopen\u001b[0;34m(url, data, timeout, cafile, capath, cadefault, context)\u001b[0m\n\u001b[1;32m    214\u001b[0m \u001b[39melse\u001b[39;00m:\n\u001b[1;32m    215\u001b[0m     opener \u001b[39m=\u001b[39m _opener\n\u001b[0;32m--> 216\u001b[0m \u001b[39mreturn\u001b[39;00m opener\u001b[39m.\u001b[39;49mopen(url, data, timeout)\n",
      "File \u001b[0;32m/opt/homebrew/anaconda3/lib/python3.10/urllib/request.py:525\u001b[0m, in \u001b[0;36mOpenerDirector.open\u001b[0;34m(self, fullurl, data, timeout)\u001b[0m\n\u001b[1;32m    523\u001b[0m \u001b[39mfor\u001b[39;00m processor \u001b[39min\u001b[39;00m \u001b[39mself\u001b[39m\u001b[39m.\u001b[39mprocess_response\u001b[39m.\u001b[39mget(protocol, []):\n\u001b[1;32m    524\u001b[0m     meth \u001b[39m=\u001b[39m \u001b[39mgetattr\u001b[39m(processor, meth_name)\n\u001b[0;32m--> 525\u001b[0m     response \u001b[39m=\u001b[39m meth(req, response)\n\u001b[1;32m    527\u001b[0m \u001b[39mreturn\u001b[39;00m response\n",
      "File \u001b[0;32m/opt/homebrew/anaconda3/lib/python3.10/urllib/request.py:634\u001b[0m, in \u001b[0;36mHTTPErrorProcessor.http_response\u001b[0;34m(self, request, response)\u001b[0m\n\u001b[1;32m    631\u001b[0m \u001b[39m# According to RFC 2616, \"2xx\" code indicates that the client's\u001b[39;00m\n\u001b[1;32m    632\u001b[0m \u001b[39m# request was successfully received, understood, and accepted.\u001b[39;00m\n\u001b[1;32m    633\u001b[0m \u001b[39mif\u001b[39;00m \u001b[39mnot\u001b[39;00m (\u001b[39m200\u001b[39m \u001b[39m<\u001b[39m\u001b[39m=\u001b[39m code \u001b[39m<\u001b[39m \u001b[39m300\u001b[39m):\n\u001b[0;32m--> 634\u001b[0m     response \u001b[39m=\u001b[39m \u001b[39mself\u001b[39;49m\u001b[39m.\u001b[39;49mparent\u001b[39m.\u001b[39;49merror(\n\u001b[1;32m    635\u001b[0m         \u001b[39m'\u001b[39;49m\u001b[39mhttp\u001b[39;49m\u001b[39m'\u001b[39;49m, request, response, code, msg, hdrs)\n\u001b[1;32m    637\u001b[0m \u001b[39mreturn\u001b[39;00m response\n",
      "File \u001b[0;32m/opt/homebrew/anaconda3/lib/python3.10/urllib/request.py:557\u001b[0m, in \u001b[0;36mOpenerDirector.error\u001b[0;34m(self, proto, *args)\u001b[0m\n\u001b[1;32m    555\u001b[0m     http_err \u001b[39m=\u001b[39m \u001b[39m0\u001b[39m\n\u001b[1;32m    556\u001b[0m args \u001b[39m=\u001b[39m (\u001b[39mdict\u001b[39m, proto, meth_name) \u001b[39m+\u001b[39m args\n\u001b[0;32m--> 557\u001b[0m result \u001b[39m=\u001b[39m \u001b[39mself\u001b[39;49m\u001b[39m.\u001b[39;49m_call_chain(\u001b[39m*\u001b[39;49margs)\n\u001b[1;32m    558\u001b[0m \u001b[39mif\u001b[39;00m result:\n\u001b[1;32m    559\u001b[0m     \u001b[39mreturn\u001b[39;00m result\n",
      "File \u001b[0;32m/opt/homebrew/anaconda3/lib/python3.10/urllib/request.py:496\u001b[0m, in \u001b[0;36mOpenerDirector._call_chain\u001b[0;34m(self, chain, kind, meth_name, *args)\u001b[0m\n\u001b[1;32m    494\u001b[0m \u001b[39mfor\u001b[39;00m handler \u001b[39min\u001b[39;00m handlers:\n\u001b[1;32m    495\u001b[0m     func \u001b[39m=\u001b[39m \u001b[39mgetattr\u001b[39m(handler, meth_name)\n\u001b[0;32m--> 496\u001b[0m     result \u001b[39m=\u001b[39m func(\u001b[39m*\u001b[39;49margs)\n\u001b[1;32m    497\u001b[0m     \u001b[39mif\u001b[39;00m result \u001b[39mis\u001b[39;00m \u001b[39mnot\u001b[39;00m \u001b[39mNone\u001b[39;00m:\n\u001b[1;32m    498\u001b[0m         \u001b[39mreturn\u001b[39;00m result\n",
      "File \u001b[0;32m/opt/homebrew/anaconda3/lib/python3.10/urllib/request.py:749\u001b[0m, in \u001b[0;36mHTTPRedirectHandler.http_error_302\u001b[0;34m(self, req, fp, code, msg, headers)\u001b[0m\n\u001b[1;32m    746\u001b[0m fp\u001b[39m.\u001b[39mread()\n\u001b[1;32m    747\u001b[0m fp\u001b[39m.\u001b[39mclose()\n\u001b[0;32m--> 749\u001b[0m \u001b[39mreturn\u001b[39;00m \u001b[39mself\u001b[39;49m\u001b[39m.\u001b[39;49mparent\u001b[39m.\u001b[39;49mopen(new, timeout\u001b[39m=\u001b[39;49mreq\u001b[39m.\u001b[39;49mtimeout)\n",
      "File \u001b[0;32m/opt/homebrew/anaconda3/lib/python3.10/urllib/request.py:525\u001b[0m, in \u001b[0;36mOpenerDirector.open\u001b[0;34m(self, fullurl, data, timeout)\u001b[0m\n\u001b[1;32m    523\u001b[0m \u001b[39mfor\u001b[39;00m processor \u001b[39min\u001b[39;00m \u001b[39mself\u001b[39m\u001b[39m.\u001b[39mprocess_response\u001b[39m.\u001b[39mget(protocol, []):\n\u001b[1;32m    524\u001b[0m     meth \u001b[39m=\u001b[39m \u001b[39mgetattr\u001b[39m(processor, meth_name)\n\u001b[0;32m--> 525\u001b[0m     response \u001b[39m=\u001b[39m meth(req, response)\n\u001b[1;32m    527\u001b[0m \u001b[39mreturn\u001b[39;00m response\n",
      "File \u001b[0;32m/opt/homebrew/anaconda3/lib/python3.10/urllib/request.py:634\u001b[0m, in \u001b[0;36mHTTPErrorProcessor.http_response\u001b[0;34m(self, request, response)\u001b[0m\n\u001b[1;32m    631\u001b[0m \u001b[39m# According to RFC 2616, \"2xx\" code indicates that the client's\u001b[39;00m\n\u001b[1;32m    632\u001b[0m \u001b[39m# request was successfully received, understood, and accepted.\u001b[39;00m\n\u001b[1;32m    633\u001b[0m \u001b[39mif\u001b[39;00m \u001b[39mnot\u001b[39;00m (\u001b[39m200\u001b[39m \u001b[39m<\u001b[39m\u001b[39m=\u001b[39m code \u001b[39m<\u001b[39m \u001b[39m300\u001b[39m):\n\u001b[0;32m--> 634\u001b[0m     response \u001b[39m=\u001b[39m \u001b[39mself\u001b[39;49m\u001b[39m.\u001b[39;49mparent\u001b[39m.\u001b[39;49merror(\n\u001b[1;32m    635\u001b[0m         \u001b[39m'\u001b[39;49m\u001b[39mhttp\u001b[39;49m\u001b[39m'\u001b[39;49m, request, response, code, msg, hdrs)\n\u001b[1;32m    637\u001b[0m \u001b[39mreturn\u001b[39;00m response\n",
      "File \u001b[0;32m/opt/homebrew/anaconda3/lib/python3.10/urllib/request.py:563\u001b[0m, in \u001b[0;36mOpenerDirector.error\u001b[0;34m(self, proto, *args)\u001b[0m\n\u001b[1;32m    561\u001b[0m \u001b[39mif\u001b[39;00m http_err:\n\u001b[1;32m    562\u001b[0m     args \u001b[39m=\u001b[39m (\u001b[39mdict\u001b[39m, \u001b[39m'\u001b[39m\u001b[39mdefault\u001b[39m\u001b[39m'\u001b[39m, \u001b[39m'\u001b[39m\u001b[39mhttp_error_default\u001b[39m\u001b[39m'\u001b[39m) \u001b[39m+\u001b[39m orig_args\n\u001b[0;32m--> 563\u001b[0m     \u001b[39mreturn\u001b[39;00m \u001b[39mself\u001b[39;49m\u001b[39m.\u001b[39;49m_call_chain(\u001b[39m*\u001b[39;49margs)\n",
      "File \u001b[0;32m/opt/homebrew/anaconda3/lib/python3.10/urllib/request.py:496\u001b[0m, in \u001b[0;36mOpenerDirector._call_chain\u001b[0;34m(self, chain, kind, meth_name, *args)\u001b[0m\n\u001b[1;32m    494\u001b[0m \u001b[39mfor\u001b[39;00m handler \u001b[39min\u001b[39;00m handlers:\n\u001b[1;32m    495\u001b[0m     func \u001b[39m=\u001b[39m \u001b[39mgetattr\u001b[39m(handler, meth_name)\n\u001b[0;32m--> 496\u001b[0m     result \u001b[39m=\u001b[39m func(\u001b[39m*\u001b[39;49margs)\n\u001b[1;32m    497\u001b[0m     \u001b[39mif\u001b[39;00m result \u001b[39mis\u001b[39;00m \u001b[39mnot\u001b[39;00m \u001b[39mNone\u001b[39;00m:\n\u001b[1;32m    498\u001b[0m         \u001b[39mreturn\u001b[39;00m result\n",
      "File \u001b[0;32m/opt/homebrew/anaconda3/lib/python3.10/urllib/request.py:643\u001b[0m, in \u001b[0;36mHTTPDefaultErrorHandler.http_error_default\u001b[0;34m(self, req, fp, code, msg, hdrs)\u001b[0m\n\u001b[1;32m    642\u001b[0m \u001b[39mdef\u001b[39;00m \u001b[39mhttp_error_default\u001b[39m(\u001b[39mself\u001b[39m, req, fp, code, msg, hdrs):\n\u001b[0;32m--> 643\u001b[0m     \u001b[39mraise\u001b[39;00m HTTPError(req\u001b[39m.\u001b[39mfull_url, code, msg, hdrs, fp)\n",
      "\u001b[0;31mHTTPError\u001b[0m: HTTP Error 404: Not Found"
     ]
    }
   ],
   "source": [
    "pages = set()\n",
    "def getLinks(pageUrl):\n",
    "    global pages\n",
    "    html = urlopen(\"http://en.wikipedia.org\"+pageUrl)\n",
    "    bsObj = BeautifulSoup(html, \"html.parser\")\n",
    "    for link in bsObj.findAll(\"a\", href=re.compile(\"^(/wiki/)\")):\n",
    "        if 'href' in link.attrs:\n",
    "            if link.attrs['href'] not in pages:\n",
    "                # 새 페이지를 발견\n",
    "                newPage = link.attrs['href']\n",
    "                print(\"----------------\\n\"+newPage)\n",
    "                pages.add(newPage)\n",
    "                getLinks(newPage)\n",
    "            \n",
    "getLinks(\"\")"
   ]
  },
  {
   "cell_type": "code",
   "execution_count": 11,
   "metadata": {},
   "outputs": [
    {
     "name": "stderr",
     "output_type": "stream",
     "text": [
      "/var/folders/6l/0rnqwtgd2lqfvr4vcry4xjrc0000gn/T/ipykernel_31421/2675707815.py:2: DeprecationWarning: Seeding based on hashing is deprecated\n",
      "since Python 3.9 and will be removed in a subsequent version. The only \n",
      "supported seed types are: None, int, float, str, bytes, and bytearray.\n",
      "  random.seed(datetime.datetime.now())\n"
     ]
    },
    {
     "name": "stdout",
     "output_type": "stream",
     "text": [
      "Random external link is: https://play.google.com/store/apps/details?id=com.safariflow.queue\n",
      "Random external link is: https://support.google.com/googleplay/answer/7007852\n",
      "Random external link is: https://accounts.google.com/ServiceLogin?hl=en&passive=true&continue=http://support.google.com/googleplay/answer/7007852&ec=GAZAdQ\n",
      "Random external link is: https://support.google.com/accounts?p=signin_privatebrowsing&hl=en\n",
      "Random external link is: https://accounts.google.com/ServiceLogin?hl=en&passive=true&continue=http://support.google.com/accounts/answer/2917834%3Fvisit_id%3D638248605906464470-1041951599%26p%3Dsignin_privatebrowsing%26hl%3Den%26rd%3D1&ec=GAZAdQ\n",
      "Random external link is: https://support.google.com/accounts?p=signin_privatebrowsing&hl=en\n",
      "Random external link is: https://support.microsoft.com/en-us/help/4026200/windows-browse-inprivate-in-microsoft-edge\n",
      "Random external link is: https://support.xbox.com/\n"
     ]
    },
    {
     "ename": "ValueError",
     "evalue": "empty range for randrange() (0, 0, 0)",
     "output_type": "error",
     "traceback": [
      "\u001b[0;31m---------------------------------------------------------------------------\u001b[0m",
      "\u001b[0;31mValueError\u001b[0m                                Traceback (most recent call last)",
      "Cell \u001b[0;32mIn[11], line 45\u001b[0m\n\u001b[1;32m     42\u001b[0m     \u001b[39mprint\u001b[39m(\u001b[39m\"\u001b[39m\u001b[39mRandom external link is: \u001b[39m\u001b[39m\"\u001b[39m\u001b[39m+\u001b[39mexternalLink)\n\u001b[1;32m     43\u001b[0m     followExternalOnly(externalLink)\n\u001b[0;32m---> 45\u001b[0m followExternalOnly(\u001b[39m\"\u001b[39;49m\u001b[39mhttp://oreilly.com\u001b[39;49m\u001b[39m\"\u001b[39;49m)\n",
      "Cell \u001b[0;32mIn[11], line 43\u001b[0m, in \u001b[0;36mfollowExternalOnly\u001b[0;34m(startingSite)\u001b[0m\n\u001b[1;32m     41\u001b[0m externalLink \u001b[39m=\u001b[39m getRandomExternalLink(startingSite)\n\u001b[1;32m     42\u001b[0m \u001b[39mprint\u001b[39m(\u001b[39m\"\u001b[39m\u001b[39mRandom external link is: \u001b[39m\u001b[39m\"\u001b[39m\u001b[39m+\u001b[39mexternalLink)\n\u001b[0;32m---> 43\u001b[0m followExternalOnly(externalLink)\n",
      "Cell \u001b[0;32mIn[11], line 43\u001b[0m, in \u001b[0;36mfollowExternalOnly\u001b[0;34m(startingSite)\u001b[0m\n\u001b[1;32m     41\u001b[0m externalLink \u001b[39m=\u001b[39m getRandomExternalLink(startingSite)\n\u001b[1;32m     42\u001b[0m \u001b[39mprint\u001b[39m(\u001b[39m\"\u001b[39m\u001b[39mRandom external link is: \u001b[39m\u001b[39m\"\u001b[39m\u001b[39m+\u001b[39mexternalLink)\n\u001b[0;32m---> 43\u001b[0m followExternalOnly(externalLink)\n",
      "    \u001b[0;31m[... skipping similar frames: followExternalOnly at line 43 (5 times)]\u001b[0m\n",
      "Cell \u001b[0;32mIn[11], line 43\u001b[0m, in \u001b[0;36mfollowExternalOnly\u001b[0;34m(startingSite)\u001b[0m\n\u001b[1;32m     41\u001b[0m externalLink \u001b[39m=\u001b[39m getRandomExternalLink(startingSite)\n\u001b[1;32m     42\u001b[0m \u001b[39mprint\u001b[39m(\u001b[39m\"\u001b[39m\u001b[39mRandom external link is: \u001b[39m\u001b[39m\"\u001b[39m\u001b[39m+\u001b[39mexternalLink)\n\u001b[0;32m---> 43\u001b[0m followExternalOnly(externalLink)\n",
      "Cell \u001b[0;32mIn[11], line 41\u001b[0m, in \u001b[0;36mfollowExternalOnly\u001b[0;34m(startingSite)\u001b[0m\n\u001b[1;32m     40\u001b[0m \u001b[39mdef\u001b[39;00m \u001b[39mfollowExternalOnly\u001b[39m(startingSite):\n\u001b[0;32m---> 41\u001b[0m     externalLink \u001b[39m=\u001b[39m getRandomExternalLink(startingSite)\n\u001b[1;32m     42\u001b[0m     \u001b[39mprint\u001b[39m(\u001b[39m\"\u001b[39m\u001b[39mRandom external link is: \u001b[39m\u001b[39m\"\u001b[39m\u001b[39m+\u001b[39mexternalLink)\n\u001b[1;32m     43\u001b[0m     followExternalOnly(externalLink)\n",
      "Cell \u001b[0;32mIn[11], line 35\u001b[0m, in \u001b[0;36mgetRandomExternalLink\u001b[0;34m(startingPage)\u001b[0m\n\u001b[1;32m     33\u001b[0m     domain \u001b[39m=\u001b[39m splitAddress(startingPage)[\u001b[39m0\u001b[39m]\n\u001b[1;32m     34\u001b[0m     internalLinks \u001b[39m=\u001b[39m getIntLinks(bsObj, domain)\n\u001b[0;32m---> 35\u001b[0m     \u001b[39mreturn\u001b[39;00m getRandomExternalLink(internalLinks[random\u001b[39m.\u001b[39;49mrandint(\u001b[39m0\u001b[39;49m,\n\u001b[1;32m     36\u001b[0m                                             \u001b[39mlen\u001b[39;49m(internalLinks)\u001b[39m-\u001b[39;49m\u001b[39m1\u001b[39;49m)])\n\u001b[1;32m     37\u001b[0m \u001b[39melse\u001b[39;00m:\n\u001b[1;32m     38\u001b[0m     \u001b[39mreturn\u001b[39;00m externalLinks[random\u001b[39m.\u001b[39mrandint(\u001b[39m0\u001b[39m, \u001b[39mlen\u001b[39m(externalLinks)\u001b[39m-\u001b[39m\u001b[39m1\u001b[39m)]\n",
      "File \u001b[0;32m/opt/homebrew/anaconda3/lib/python3.10/random.py:370\u001b[0m, in \u001b[0;36mRandom.randint\u001b[0;34m(self, a, b)\u001b[0m\n\u001b[1;32m    366\u001b[0m \u001b[39mdef\u001b[39;00m \u001b[39mrandint\u001b[39m(\u001b[39mself\u001b[39m, a, b):\n\u001b[1;32m    367\u001b[0m     \u001b[39m\"\"\"Return random integer in range [a, b], including both end points.\u001b[39;00m\n\u001b[1;32m    368\u001b[0m \u001b[39m    \"\"\"\u001b[39;00m\n\u001b[0;32m--> 370\u001b[0m     \u001b[39mreturn\u001b[39;00m \u001b[39mself\u001b[39;49m\u001b[39m.\u001b[39;49mrandrange(a, b\u001b[39m+\u001b[39;49m\u001b[39m1\u001b[39;49m)\n",
      "File \u001b[0;32m/opt/homebrew/anaconda3/lib/python3.10/random.py:353\u001b[0m, in \u001b[0;36mRandom.randrange\u001b[0;34m(self, start, stop, step)\u001b[0m\n\u001b[1;32m    351\u001b[0m     \u001b[39mif\u001b[39;00m width \u001b[39m>\u001b[39m \u001b[39m0\u001b[39m:\n\u001b[1;32m    352\u001b[0m         \u001b[39mreturn\u001b[39;00m istart \u001b[39m+\u001b[39m \u001b[39mself\u001b[39m\u001b[39m.\u001b[39m_randbelow(width)\n\u001b[0;32m--> 353\u001b[0m     \u001b[39mraise\u001b[39;00m \u001b[39mValueError\u001b[39;00m(\u001b[39m\"\u001b[39m\u001b[39mempty range for randrange() (\u001b[39m\u001b[39m%d\u001b[39;00m\u001b[39m, \u001b[39m\u001b[39m%d\u001b[39;00m\u001b[39m, \u001b[39m\u001b[39m%d\u001b[39;00m\u001b[39m)\u001b[39m\u001b[39m\"\u001b[39m \u001b[39m%\u001b[39m (istart, istop, width))\n\u001b[1;32m    355\u001b[0m \u001b[39m# Non-unit step argument supplied.\u001b[39;00m\n\u001b[1;32m    356\u001b[0m \u001b[39mif\u001b[39;00m istep \u001b[39m>\u001b[39m \u001b[39m0\u001b[39m:\n",
      "\u001b[0;31mValueError\u001b[0m: empty range for randrange() (0, 0, 0)"
     ]
    }
   ],
   "source": [
    "pages = set()\n",
    "random.seed(datetime.datetime.now())\n",
    "\n",
    "def getIntLinks(bsObj, includeUrl):\n",
    "    internalLinks = []\n",
    "    for link in bsObj.findAll(\"a\", href=re.compile(\"^(/|.*\"+includeUrl+\")\")): # 正则表达式: 以/开头或者包含includeUrl\n",
    "        if link.attrs['href'] is not None:\n",
    "            if link.attrs['href'] not in internalLinks:\n",
    "                if(link.attrs['href'].startswith(\"/\")):\n",
    "                    internalLinks.append(includeUrl+link.attrs['href'])\n",
    "                else:\n",
    "                    internalLinks.append(link.attrs['href'])\n",
    "    return internalLinks\n",
    "\n",
    "def getExternalLinks(bsObj, excludeUrl):\n",
    "    externalLinks = []\n",
    "    for link in bsObj.findAll(\"a\",\n",
    "                        href=re.compile(\"^(http|www)((?!\"+excludeUrl+\").)*$\")): # 正则表达式: 以http或www开头, 但不包含excludeUrl\n",
    "        if link.attrs['href'] is not None:\n",
    "            if link.attrs['href'] not in externalLinks:\n",
    "                externalLinks.append(link.attrs['href'])\n",
    "    return externalLinks\n",
    "\n",
    "def splitAddress(address):\n",
    "    addressParts = address.replace(\"http://\", \"\").split(\"/\") \n",
    "    return addressParts\n",
    "\n",
    "def getRandomExternalLink(startingPage):\n",
    "    html = urlopen(startingPage)\n",
    "    bsObj = BeautifulSoup(html, \"html.parser\")\n",
    "    externalLinks = getExternalLinks(bsObj, splitAddress(startingPage)[0]) # splitAddress(startingPage)[0] = domain\n",
    "    if len(externalLinks) == 0:\n",
    "        domain = splitAddress(startingPage)[0]\n",
    "        internalLinks = getIntLinks(bsObj, domain)\n",
    "        return getRandomExternalLink(internalLinks[random.randint(0,\n",
    "                                                len(internalLinks)-1)])\n",
    "    else:\n",
    "        return externalLinks[random.randint(0, len(externalLinks)-1)]\n",
    "    \n",
    "def followExternalOnly(startingSite):\n",
    "    externalLink = getRandomExternalLink(startingSite)\n",
    "    print(\"Random external link is: \"+externalLink)\n",
    "    followExternalOnly(externalLink)\n",
    "\n",
    "followExternalOnly(\"http://oreilly.com\")\n"
   ]
  },
  {
   "cell_type": "code",
   "execution_count": 12,
   "metadata": {},
   "outputs": [
    {
     "name": "stdout",
     "output_type": "stream",
     "text": [
      "https://twitter.com/oreillymedia\n",
      "https://www.linkedin.com/company/oreilly-media\n",
      "https://www.youtube.com/user/OreillyMedia\n",
      "https://oreilly.hk/\n",
      "https://oreillylearning.in/\n",
      "https://oreilly.id/\n",
      "https://www.oreilly.co.jp/index.shtml\n",
      "https://itunes.apple.com/us/app/safari-to-go/id881697395\n",
      "https://play.google.com/store/apps/details?id=com.safariflow.queue\n",
      "https://channelstore.roku.com/details/c8a2d0096693eb9455f6ac165003ee06/oreilly\n",
      "https://www.amazon.com/OReilly-Media-Inc/dp/B087YYHL5C/ref=sr_1_2?dchild=1&keywords=oreilly&qid=1604964116&s=mobile-apps&sr=1-2\n",
      "About to get link: https://www.oreilly.com\n",
      "https://www.oreilly.com\n",
      "https://www.oreilly.com/member/login/\n",
      "https://www.oreilly.com/online-learning/try-now.html\n",
      "https://www.oreilly.com/online-learning/teams.html\n",
      "https://www.oreilly.com/online-learning/government.html\n",
      "https://www.oreilly.com/online-learning/academic.html\n",
      "https://www.oreilly.com/online-learning/individuals.html\n",
      "https://www.oreilly.com/online-learning/features.html\n",
      "https://www.oreilly.com/online-learning/courses.html\n",
      "https://www.oreilly.com/online-learning/feature-certification.html\n",
      "https://www.oreilly.com/online-learning/intro-interactive-learning.html\n",
      "https://www.oreilly.com/online-learning/live-events.html\n",
      "https://www.oreilly.com/online-learning/feature-answers.html\n",
      "https://www.oreilly.com/online-learning/insights-dashboard.html\n",
      "https://www.oreilly.com/radar/\n",
      "https://www.oreilly.com/content-marketing-solutions.html\n",
      "https://learning.oreilly.com/start-trial/\n",
      "https://www.oreilly.com/online-learning/generative-ai.html\n",
      "https://www.oreilly.com/online-learning/testimonials.html\n",
      "https://www.oreilly.com/diversity/scholarship-program.html\n",
      "https://ae.oreilly.com/The_Next_Generation_of_Developer_Productivity\n",
      "https://learning.oreilly.com/search/?query=author%3A%22Arianne%20Dee%22&extended_publisher_data=true&highlight=true&include_assessments=false&include_case_studies=true&include_courses=true&include_playlists=true&include_collections=true&include_notebooks=true&include_sandboxes=true&include_scenarios=true&is_academic_institution_account=false&source=suggestion&sort=date_added&facet_json=true&json_facets=true&page=0&include_facets=false\n",
      "https://learning.oreilly.com/search/?query=author%3A%22Bruno%20Gon%C3%A7alves%22&extended_publisher_data=true&highlight=true&include_assessments=false&include_case_studies=true&include_courses=true&include_playlists=true&include_collections=true&include_notebooks=true&include_sandboxes=true&include_scenarios=true&is_academic_institution_account=false&source=user&sort=date_added&facet_json=true&json_facets=true&page=0&include_facets=false\n",
      "https://learning.oreilly.com/search/?query=author%3A%22Kelsey%20Hightower%22&extended_publisher_data=true&highlight=true&include_assessments=false&include_case_studies=true&include_courses=true&include_playlists=true&include_collections=true&include_notebooks=true&include_sandboxes=true&include_scenarios=true&is_academic_institution_account=false&source=user&sort=date_added&facet_json=true&json_facets=true&page=0&include_facets=false\n",
      "https://learning.oreilly.com/search/?query=author%3A%22Sari%20Greene%22&extended_publisher_data=true&highlight=true&include_assessments=false&include_case_studies=true&include_courses=true&include_playlists=true&include_collections=true&include_notebooks=true&include_sandboxes=true&include_scenarios=true&is_academic_institution_account=false&source=user&sort=date_added&facet_json=true&json_facets=true&page=0&include_facets=false\n",
      "https://learning.oreilly.com/search/?query=author%3A%22Neal%20Ford%22&extended_publisher_data=true&highlight=true&include_assessments=false&include_case_studies=true&include_courses=true&include_playlists=true&include_collections=true&include_notebooks=true&include_sandboxes=true&include_scenarios=true&is_academic_institution_account=false&source=user&sort=date_added&facet_json=true&json_facets=true&page=0&include_facets=false\n",
      "https://learning.oreilly.com/search/?query=author%3A%22Ken%20Kousen%22&extended_publisher_data=true&highlight=true&include_assessments=false&include_case_studies=true&include_courses=true&include_playlists=true&include_collections=true&include_notebooks=true&include_sandboxes=true&include_scenarios=true&is_academic_institution_account=false&source=user&sort=date_added&facet_json=true&json_facets=true&page=0&include_facets=false\n",
      "https://www.oreilly.com/online-learning/live-online-sessions.html\n",
      "https://www.oreilly.com/online-learning/enterprise.html\n",
      "https://www.oreilly.com/anz/\n",
      "https://www.oreilly.com/privacy.html?donotsell=show\n",
      "About to get link: https://www.oreilly.com/member/login/\n",
      "https://learning.oreilly.com/register/\n",
      "https://members.oreilly.com/\n",
      "https://www.amazon.com/OReilly-Media-Inc/dp/B087YYHL5C/ref=sr_1_2?dchild=1&amp;keywords=oreilly&amp;qid=1604964116&amp;s=mobile-apps&amp;sr=1-2\n",
      "https://www.oreilly.com/terms/\n",
      "https://www.oreilly.com/modern-slavery-act-transparency-statement.html\n",
      "About to get link: https:/\n"
     ]
    },
    {
     "ename": "URLError",
     "evalue": "<urlopen error no host given>",
     "output_type": "error",
     "traceback": [
      "\u001b[0;31m---------------------------------------------------------------------------\u001b[0m",
      "\u001b[0;31mURLError\u001b[0m                                  Traceback (most recent call last)",
      "Cell \u001b[0;32mIn[12], line 19\u001b[0m\n\u001b[1;32m     16\u001b[0m             allIntLinks\u001b[39m.\u001b[39madd(link)\n\u001b[1;32m     17\u001b[0m             getAllExternalLinks(link)\n\u001b[0;32m---> 19\u001b[0m getAllExternalLinks(\u001b[39m\"\u001b[39;49m\u001b[39mhttp://oreilly.com\u001b[39;49m\u001b[39m\"\u001b[39;49m)\n",
      "Cell \u001b[0;32mIn[12], line 17\u001b[0m, in \u001b[0;36mgetAllExternalLinks\u001b[0;34m(siteUrl)\u001b[0m\n\u001b[1;32m     15\u001b[0m \u001b[39mprint\u001b[39m(\u001b[39m\"\u001b[39m\u001b[39mAbout to get link: \u001b[39m\u001b[39m\"\u001b[39m\u001b[39m+\u001b[39mlink)\n\u001b[1;32m     16\u001b[0m allIntLinks\u001b[39m.\u001b[39madd(link)\n\u001b[0;32m---> 17\u001b[0m getAllExternalLinks(link)\n",
      "Cell \u001b[0;32mIn[12], line 17\u001b[0m, in \u001b[0;36mgetAllExternalLinks\u001b[0;34m(siteUrl)\u001b[0m\n\u001b[1;32m     15\u001b[0m \u001b[39mprint\u001b[39m(\u001b[39m\"\u001b[39m\u001b[39mAbout to get link: \u001b[39m\u001b[39m\"\u001b[39m\u001b[39m+\u001b[39mlink)\n\u001b[1;32m     16\u001b[0m allIntLinks\u001b[39m.\u001b[39madd(link)\n\u001b[0;32m---> 17\u001b[0m getAllExternalLinks(link)\n",
      "Cell \u001b[0;32mIn[12], line 17\u001b[0m, in \u001b[0;36mgetAllExternalLinks\u001b[0;34m(siteUrl)\u001b[0m\n\u001b[1;32m     15\u001b[0m \u001b[39mprint\u001b[39m(\u001b[39m\"\u001b[39m\u001b[39mAbout to get link: \u001b[39m\u001b[39m\"\u001b[39m\u001b[39m+\u001b[39mlink)\n\u001b[1;32m     16\u001b[0m allIntLinks\u001b[39m.\u001b[39madd(link)\n\u001b[0;32m---> 17\u001b[0m getAllExternalLinks(link)\n",
      "Cell \u001b[0;32mIn[12], line 4\u001b[0m, in \u001b[0;36mgetAllExternalLinks\u001b[0;34m(siteUrl)\u001b[0m\n\u001b[1;32m      3\u001b[0m \u001b[39mdef\u001b[39;00m \u001b[39mgetAllExternalLinks\u001b[39m(siteUrl):\n\u001b[0;32m----> 4\u001b[0m     html \u001b[39m=\u001b[39m urlopen(siteUrl)\n\u001b[1;32m      5\u001b[0m     domain \u001b[39m=\u001b[39m splitAddress(siteUrl)[\u001b[39m0\u001b[39m]\n\u001b[1;32m      6\u001b[0m     bsObj \u001b[39m=\u001b[39m BeautifulSoup(html, \u001b[39m\"\u001b[39m\u001b[39mhtml.parser\u001b[39m\u001b[39m\"\u001b[39m)\n",
      "File \u001b[0;32m/opt/homebrew/anaconda3/lib/python3.10/urllib/request.py:216\u001b[0m, in \u001b[0;36murlopen\u001b[0;34m(url, data, timeout, cafile, capath, cadefault, context)\u001b[0m\n\u001b[1;32m    214\u001b[0m \u001b[39melse\u001b[39;00m:\n\u001b[1;32m    215\u001b[0m     opener \u001b[39m=\u001b[39m _opener\n\u001b[0;32m--> 216\u001b[0m \u001b[39mreturn\u001b[39;00m opener\u001b[39m.\u001b[39;49mopen(url, data, timeout)\n",
      "File \u001b[0;32m/opt/homebrew/anaconda3/lib/python3.10/urllib/request.py:516\u001b[0m, in \u001b[0;36mOpenerDirector.open\u001b[0;34m(self, fullurl, data, timeout)\u001b[0m\n\u001b[1;32m    514\u001b[0m \u001b[39mfor\u001b[39;00m processor \u001b[39min\u001b[39;00m \u001b[39mself\u001b[39m\u001b[39m.\u001b[39mprocess_request\u001b[39m.\u001b[39mget(protocol, []):\n\u001b[1;32m    515\u001b[0m     meth \u001b[39m=\u001b[39m \u001b[39mgetattr\u001b[39m(processor, meth_name)\n\u001b[0;32m--> 516\u001b[0m     req \u001b[39m=\u001b[39m meth(req)\n\u001b[1;32m    518\u001b[0m sys\u001b[39m.\u001b[39maudit(\u001b[39m'\u001b[39m\u001b[39murllib.Request\u001b[39m\u001b[39m'\u001b[39m, req\u001b[39m.\u001b[39mfull_url, req\u001b[39m.\u001b[39mdata, req\u001b[39m.\u001b[39mheaders, req\u001b[39m.\u001b[39mget_method())\n\u001b[1;32m    519\u001b[0m response \u001b[39m=\u001b[39m \u001b[39mself\u001b[39m\u001b[39m.\u001b[39m_open(req, data)\n",
      "File \u001b[0;32m/opt/homebrew/anaconda3/lib/python3.10/urllib/request.py:1272\u001b[0m, in \u001b[0;36mAbstractHTTPHandler.do_request_\u001b[0;34m(self, request)\u001b[0m\n\u001b[1;32m   1270\u001b[0m host \u001b[39m=\u001b[39m request\u001b[39m.\u001b[39mhost\n\u001b[1;32m   1271\u001b[0m \u001b[39mif\u001b[39;00m \u001b[39mnot\u001b[39;00m host:\n\u001b[0;32m-> 1272\u001b[0m     \u001b[39mraise\u001b[39;00m URLError(\u001b[39m'\u001b[39m\u001b[39mno host given\u001b[39m\u001b[39m'\u001b[39m)\n\u001b[1;32m   1274\u001b[0m \u001b[39mif\u001b[39;00m request\u001b[39m.\u001b[39mdata \u001b[39mis\u001b[39;00m \u001b[39mnot\u001b[39;00m \u001b[39mNone\u001b[39;00m:  \u001b[39m# POST\u001b[39;00m\n\u001b[1;32m   1275\u001b[0m     data \u001b[39m=\u001b[39m request\u001b[39m.\u001b[39mdata\n",
      "\u001b[0;31mURLError\u001b[0m: <urlopen error no host given>"
     ]
    }
   ],
   "source": [
    "allExtLinks = set()\n",
    "allIntLinks = set()\n",
    "def getAllExternalLinks(siteUrl):\n",
    "    html = urlopen(siteUrl)\n",
    "    domain = splitAddress(siteUrl)[0]\n",
    "    bsObj = BeautifulSoup(html, \"html.parser\")\n",
    "    internalLinks = getIntLinks(bsObj, domain)\n",
    "    externalLinks = getExternalLinks(bsObj, domain)\n",
    "    for link in externalLinks:\n",
    "        if link not in allExtLinks:\n",
    "            allExtLinks.add(link)\n",
    "            print(link)\n",
    "    for link in internalLinks:\n",
    "        if link not in allIntLinks:\n",
    "            print(\"About to get link: \"+link)\n",
    "            allIntLinks.add(link)\n",
    "            getAllExternalLinks(link)\n",
    "\n",
    "getAllExternalLinks(\"http://oreilly.com\")"
   ]
  },
  {
   "cell_type": "code",
   "execution_count": 14,
   "metadata": {},
   "outputs": [],
   "source": [
    "from scrapy import Item, Field,Selector,Spider\n",
    "class Article(Item):\n",
    "    title = Field()\n",
    "    text = Field()\n",
    "\n",
    "class ArticleSpider(Spider):\n",
    "    name = \"article\"\n",
    "    allowed_domains = [\"en.wikipedia.org\"]\n",
    "    start_urls = [\"http://en.wikipedia.org/wiki/Main_Page\",\n",
    "                  \"http://en.wikipedia.org/wiki/Python_%28programming_language%29\"]\n",
    "    def parse(self, response):\n",
    "        item = Article()\n",
    "        title = response.xpath('//h1/text()')[0].extract()\n",
    "        print(\"Title is: \"+title)\n",
    "        item['title'] = title\n",
    "        return item\n",
    "    \n",
    "\n"
   ]
  }
 ],
 "metadata": {
  "kernelspec": {
   "display_name": "Python 3",
   "language": "python",
   "name": "python3"
  },
  "language_info": {
   "codemirror_mode": {
    "name": "ipython",
    "version": 3
   },
   "file_extension": ".py",
   "mimetype": "text/x-python",
   "name": "python",
   "nbconvert_exporter": "python",
   "pygments_lexer": "ipython3",
   "version": "3.10.9"
  },
  "orig_nbformat": 4
 },
 "nbformat": 4,
 "nbformat_minor": 2
}
