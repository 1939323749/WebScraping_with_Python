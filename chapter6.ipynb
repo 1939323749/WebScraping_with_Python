{
 "cells": [
  {
   "cell_type": "code",
   "execution_count": null,
   "metadata": {},
   "outputs": [],
   "source": [
    "from urllib.request import urlopen"
   ]
  },
  {
   "cell_type": "code",
   "execution_count": null,
   "metadata": {},
   "outputs": [],
   "source": [
    "textPage = urlopen(\"http://www.pythonscraping.com/pages/warandpeace/chapter1.txt\")\n",
    "print(textPage.read())"
   ]
  },
  {
   "cell_type": "code",
   "execution_count": null,
   "metadata": {},
   "outputs": [],
   "source": [
    "textPage = urlopen(\"http://www.pythonscraping.com/pages/warandpeace/chapter1-ru.txt\")\n",
    "print(str(textPage.read()))"
   ]
  },
  {
   "cell_type": "code",
   "execution_count": null,
   "metadata": {},
   "outputs": [],
   "source": [
    "textPage = urlopen(\"http://www.pythonscraping.com/pages/warandpeace/chapter1-ru.txt\")\n",
    "print(str(textPage.read(),'utf-8'))"
   ]
  },
  {
   "cell_type": "code",
   "execution_count": null,
   "metadata": {},
   "outputs": [],
   "source": [
    "from bs4 import BeautifulSoup"
   ]
  },
  {
   "cell_type": "code",
   "execution_count": null,
   "metadata": {},
   "outputs": [],
   "source": [
    "html = urlopen(\"http://en.wikipedia.org/wiki/Python_(programming_language)\")\n",
    "bsObj = BeautifulSoup(html)\n",
    "content = bsObj.find(\"div\", {\"id\":\"mw-content-text\"}).get_text()\n",
    "content = bytes(content, \"UTF-8\")\n",
    "content = content.decode(\"UTF-8\")\n",
    "print(content)"
   ]
  },
  {
   "cell_type": "code",
   "execution_count": null,
   "metadata": {},
   "outputs": [],
   "source": [
    "from io import StringIO\n",
    "import csv"
   ]
  },
  {
   "cell_type": "code",
   "execution_count": null,
   "metadata": {},
   "outputs": [],
   "source": [
    "data= urlopen(\"http://pythonscraping.com/files/MontyPythonAlbums.csv\").read().decode('ascii','ignore')\n",
    "dataFile = StringIO(data)\n",
    "csvReader = csv.reader(dataFile)\n",
    "\n",
    "for row in csvReader:\n",
    "    print(\"The album \\\"\"+row[0]+\"\\\" was released in \"+str(row[1]))\n"
   ]
  },
  {
   "cell_type": "code",
   "execution_count": null,
   "metadata": {},
   "outputs": [],
   "source": [
    "!pip install pdfminer3k\n",
    "from pdfminer.pdfinterp import PDFResourceManager, process_pdf\n",
    "from pdfminer.converter import TextConverter\n",
    "from pdfminer.layout import LAParams\n"
   ]
  },
  {
   "cell_type": "code",
   "execution_count": null,
   "metadata": {},
   "outputs": [],
   "source": [
    "def readPDF(pdfFile):\n",
    "    rsrcmgr = PDFResourceManager()\n",
    "    retstr = StringIO()\n",
    "    laparams = LAParams()\n",
    "    device = TextConverter(rsrcmgr,retstr,laparams=laparams)\n",
    "\n",
    "    process_pdf(rsrcmgr,device,pdfFile)\n",
    "    device.close()\n",
    "\n",
    "    content = retstr.getvalue()\n",
    "    retstr.close()\n",
    "    return content\n",
    "\n",
    "pdfFile = urlopen(\"http://pythonscraping.com/pages/warandpeace/chapter1.pdf\")\n",
    "outputString = readPDF(pdfFile)\n",
    "print(outputString)\n",
    "pdfFile.close()"
   ]
  },
  {
   "cell_type": "code",
   "execution_count": null,
   "metadata": {},
   "outputs": [],
   "source": [
    "from zipfile import ZipFile\n",
    "from io import BytesIO"
   ]
  },
  {
   "cell_type": "code",
   "execution_count": null,
   "metadata": {},
   "outputs": [],
   "source": [
    "wordFile = urlopen(\"http://pythonscraping.com/pages/AWordDocument.docx\").read()\n",
    "wordFile = BytesIO(wordFile)\n",
    "document = ZipFile(wordFile)\n",
    "xml_content = document.read('word/document.xml')\n",
    "print(xml_content.decode('utf-8'))"
   ]
  },
  {
   "cell_type": "code",
   "execution_count": null,
   "metadata": {},
   "outputs": [],
   "source": [
    "wordObj = BeautifulSoup(xml_content.decode('utf-8'),features=\"xml\")\n",
    "textStrings = wordObj.findAll(\"w:t\")\n",
    "for textElem in textStrings:\n",
    "    closeTag = \"\"\n",
    "    try:\n",
    "        style = textElem.parent.previousSibling.find(\"w:pstyle\")\n",
    "        if style is not None and style[\"w:val\"] == \"Title\":\n",
    "            print(\"<h1>\")\n",
    "            closeTag = \"</h1>\"\n",
    "    except AttributeError:\n",
    "        pass\n",
    "    print(textElem.text)\n",
    "    print(closeTag)\n",
    "\n",
    "    "
   ]
  }
 ],
 "metadata": {
  "kernelspec": {
   "display_name": "Python 3",
   "language": "python",
   "name": "python3"
  },
  "language_info": {
   "codemirror_mode": {
    "name": "ipython",
    "version": 3
   },
   "file_extension": ".py",
   "mimetype": "text/x-python",
   "name": "python",
   "nbconvert_exporter": "python",
   "pygments_lexer": "ipython3",
   "version": "3.10.9"
  },
  "orig_nbformat": 4
 },
 "nbformat": 4,
 "nbformat_minor": 2
}
