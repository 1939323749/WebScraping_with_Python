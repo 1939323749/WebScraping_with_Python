{
 "cells": [
  {
   "cell_type": "code",
   "execution_count": null,
   "metadata": {},
   "outputs": [],
   "source": [
    "from urllib.request import urlopen,urlretrieve\n",
    "from bs4 import BeautifulSoup"
   ]
  },
  {
   "cell_type": "code",
   "execution_count": null,
   "metadata": {},
   "outputs": [],
   "source": [
    "html=urlopen(\"http://www.pythonscraping.com\")\n",
    "bsObj=BeautifulSoup(html,\"html.parser\")\n",
    "imageLocation=bsObj.find(\"div\",{\"class\":\"p-ja11262 pagelayer-text\"}).find(\"img\")[\"src\"]\n",
    "urlretrieve(imageLocation,\"pythonlogo.jpg\")"
   ]
  },
  {
   "cell_type": "code",
   "execution_count": null,
   "metadata": {},
   "outputs": [],
   "source": [
    "import re"
   ]
  },
  {
   "cell_type": "code",
   "execution_count": null,
   "metadata": {},
   "outputs": [],
   "source": [
    "urls=BeautifulSoup(urlopen(\"http://www.pythonscraping.com\"),\"html.parser\").findAll(\"a\",href=re.compile(\"^(http|www)\"))\n",
    "for url in urls:\n",
    "    print(url[\"href\"])"
   ]
  },
  {
   "cell_type": "code",
   "execution_count": null,
   "metadata": {},
   "outputs": [],
   "source": [
    "imgs=BeautifulSoup(urlopen(\"http://www.pythonscraping.com\"),\"html.parser\").findAll(\"img\")\n",
    "for img in imgs:\n",
    "    if 'src' in img.attrs:\n",
    "        print(img.attrs['src'])"
   ]
  },
  {
   "cell_type": "code",
   "execution_count": null,
   "metadata": {},
   "outputs": [],
   "source": [
    "import csv"
   ]
  },
  {
   "cell_type": "code",
   "execution_count": null,
   "metadata": {},
   "outputs": [],
   "source": [
    "csvFile=open(\"test.csv\",'wt',newline='',encoding='utf-8')\n",
    "writer=csv.writer(csvFile)\n",
    "try:\n",
    "    writer.writerow(('number','number plus 2','number times 2'))\n",
    "    for i in range(10):\n",
    "        writer.writerow((i,i+2,i*2))\n",
    "finally:\n",
    "    csvFile.close()\n"
   ]
  },
  {
   "cell_type": "code",
   "execution_count": null,
   "metadata": {},
   "outputs": [],
   "source": [
    "html=urlopen(\"http://en.wikipedia.org/wiki/Comparison_of_text_editors\")\n",
    "bsObj=BeautifulSoup(html,\"html.parser\")\n",
    "table=bsObj.findAll(\"table\",{\"class\":\"wikitable\"})[0]\n",
    "rows=table.findAll(\"tr\")\n",
    "\n",
    "csvFile=open(\"editors.csv\",'wt',newline='',encoding='utf-8')\n",
    "writer=csv.writer(csvFile)\n",
    "try:\n",
    "    for row in rows:\n",
    "        csvRow=[]\n",
    "        for cell in row.findAll(['td','th']):\n",
    "            csvRow.append(cell.get_text())\n",
    "        writer.writerow(csvRow)\n",
    "finally:\n",
    "    csvFile.close()"
   ]
  },
  {
   "cell_type": "code",
   "execution_count": null,
   "metadata": {},
   "outputs": [],
   "source": [
    "html=urlopen(\"https://zh.wikipedia.org/wiki/%E6%9C%80%E9%95%BF%E5%AF%BF%E5%9B%BD%E5%AE%B6%E9%A2%86%E5%AF%BC%E4%BA%BA%E5%88%97%E8%A1%A8\")\n",
    "bsObj=BeautifulSoup(html,\"html.parser\")\n",
    "table=bsObj.findAll(\"table\",{\"class\":\"wikitable\"})[0]\n",
    "rows=table.findAll(\"tr\")"
   ]
  },
  {
   "cell_type": "code",
   "execution_count": null,
   "metadata": {},
   "outputs": [],
   "source": [
    "try:\n",
    "    for row in rows:\n",
    "        csvRow=[]\n",
    "        for cell in row.findAll(['td','th']):\n",
    "            csvRow.append(cell.get_text().replace('\\n','').replace('\\xa0',''))\n",
    "        print(csvRow)\n",
    "finally:\n",
    "    print(\"over\")\n"
   ]
  }
 ],
 "metadata": {
  "kernelspec": {
   "display_name": "Python 3",
   "language": "python",
   "name": "python3"
  },
  "language_info": {
   "codemirror_mode": {
    "name": "ipython",
    "version": 3
   },
   "file_extension": ".py",
   "mimetype": "text/x-python",
   "name": "python",
   "nbconvert_exporter": "python",
   "pygments_lexer": "ipython3",
   "version": "3.10.9"
  },
  "orig_nbformat": 4
 },
 "nbformat": 4,
 "nbformat_minor": 2
}
